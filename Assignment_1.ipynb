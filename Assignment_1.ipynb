{
  "nbformat": 4,
  "nbformat_minor": 0,
  "metadata": {
    "colab": {
      "provenance": []
    },
    "kernelspec": {
      "name": "python3",
      "display_name": "Python 3"
    },
    "language_info": {
      "name": "python"
    }
  },
  "cells": [
    {
      "cell_type": "code",
      "source": [
        "# Q1.) Write a Python program that takes a list of daily stock prices as input, and returns the best \n",
        "# days to buy and sell stocks in order to maximize profit. The list contains the stock prices for \n",
        "# each day, starting from the first day. \n",
        "# For example, the list (100, 180, 260, 310, 40, 535, 695) represents the stock prices for 7 days, \n",
        "# where the price on the first day is 100, the second day is 180, and so on. \n",
        "# The program should find the best days to buy and sell stocks such that the profit obtained is \n",
        "# maximum. For instance, in the given list of stock prices, the best days to buy and sell stocks \n",
        "# would be: \n",
        "# Buy stock on the 1st day (price=100) \n",
        "# Sell stock on the 4th day (price=310)\n",
        "# Buy stock on the 5th day (price=40) \n",
        "# Sell stock on the 7th day (price=695) \n",
        "# The program should output these buy and sell days as a tuple or list of integers. give me \n",
        "# solution of this program.\n",
        "\n",
        "#Function to calculate and return best buying and selling days\n",
        "def stockbuysell(pricelist):\n",
        "  n=len(pricelist) \n",
        "  if n<2:\n",
        "    return \"\"\n",
        "  buy=0\n",
        "  sell=0\n",
        "  maximumprofit=0\n",
        "\n",
        "  for i in range(1,n):\n",
        "    if pricelist[i] < pricelist[buy]:\n",
        "      buy = i\n",
        "    elif pricelist[i] - pricelist[buy] > maximumprofit:\n",
        "      maximumprofit = pricelist[i] - pricelist[buy]\n",
        "      sell = i\n",
        "\n",
        "  if maximumprofit ==0 :\n",
        "    return \"\"\n",
        "  else:\n",
        "    return (buy+1, sell+1)\n",
        "\n",
        "#Main Function\n",
        "pricelist = input(\"Enter a list of numbers separated by spaces: \")\n",
        "pricelist = pricelist.split()\n",
        "pricelist = [int(num) for num in pricelist]\n",
        "bestdays = stockbuysell (pricelist)\n",
        "print(bestdays)"
      ],
      "metadata": {
        "colab": {
          "base_uri": "https://localhost:8080/"
        },
        "id": "G9N0Yni1FqAg",
        "outputId": "d8333b63-8174-4b92-a5bb-4b55eede6a38"
      },
      "execution_count": null,
      "outputs": [
        {
          "output_type": "stream",
          "name": "stdout",
          "text": [
            "Enter a list of numbers separated by spaces: 100 180 260 310 40 535 695\n",
            "(5, 7)\n"
          ]
        }
      ]
    },
    {
      "cell_type": "code",
      "source": [
        "# Q2.) You are given a list of book titles and their corresponding publication years. Your task is \n",
        "# to find the earliest year in which a trilogy of books was published. A trilogy is defined as a \n",
        "# series of three books published in consecutive years.\n",
        "# For example, consider the following list of book titles and publication years:\n",
        "# titles = ['The Hunger Games', 'Catching Fire', 'Mockingjay', 'The Lord of the Rings', 'The Two \n",
        "# Towers', 'The Return of the King', 'Divergent', 'Insurgent', 'Allegiant']\n",
        "# years = [2008, 2009, 2010, 1954, 1955, 1956, 2011, 2012, 2013]\n",
        "# The earliest year in which a trilogy was published is 1954.\n",
        "\n",
        "# Taking the given Example as our set values \n",
        "titles = ['The Hunger Games', 'Catching Fire', 'Mockingjay', 'The Lord of the Rings', 'The Two Towers', 'The Return of the King', 'Divergent', 'Insurgent', 'Allegiant']\n",
        "years = [2008, 2009, 2010, 1954, 1955, 1956, 2011, 2012, 2013]\n",
        "# #For user inputs\n",
        "# titles = input(\"Enter list of book's titles\")\n",
        "# titles = titles.split()\n",
        "\n",
        "# year = input(\"Enter list of book's titles\")\n",
        "# year = year.split()\n",
        "# year = [int(num) for num in year]\n",
        "\n",
        "# Sorting the years in ascending order\n",
        "years_sorted = sorted(years)\n",
        "\n",
        "# Looping through each year and checking if there are three consecutive years with books published\n",
        "for i in range(len(years_sorted) - 2):\n",
        "    if years_sorted[i+2] == years_sorted[i+1] + 1 == years_sorted[i] + 2:\n",
        "        earliest_year = years_sorted[i]\n",
        "        break\n",
        "\n",
        "# Print the earliest year in which a trilogy was published\n",
        "print(\"The earliest year in which a trilogy was published is:\", earliest_year)\n"
      ],
      "metadata": {
        "colab": {
          "base_uri": "https://localhost:8080/"
        },
        "id": "Hl_xE11kQdc0",
        "outputId": "40f93b62-9d86-4b89-a0c4-0c95a187986a"
      },
      "execution_count": null,
      "outputs": [
        {
          "output_type": "stream",
          "name": "stdout",
          "text": [
            "The earliest year in which a trilogy was published is: 1954\n"
          ]
        }
      ]
    },
    {
      "cell_type": "code",
      "source": [
        "# Q3.) Write a Python program that reads in a CSV file of stock prices (e.g. ticker symbol, date, \n",
        "# price), and then uses dictionaries and lists to calculate the highest and lowest prices for each \n",
        "# stock from following table:\n",
        "\n",
        "import csv\n",
        "\n",
        "prices = {}\n",
        "with open('Q3_CSV_FILE.csv', 'r') as file:\n",
        "    reader = csv.reader(file)\n",
        "    next(reader)\n",
        "        \n",
        "    for row in reader:\n",
        "        ticker = row[0]\n",
        "        price = float(row[2])\n",
        "                \n",
        "        if ticker not in prices:\n",
        "            prices[ticker] = [price, price]\n",
        "        else:            \n",
        "            if price > prices[ticker][0]:\n",
        "                prices[ticker][0] = price\n",
        "            elif price < prices[ticker][1]:\n",
        "                prices[ticker][1] = price\n",
        "\n",
        "# Printing the results\n",
        "for ticker, price_range in prices.items():\n",
        "    print(\"Ticker symbol/ Stock:\", ticker)\n",
        "    print(\"Highest price:\", price_range[0])\n",
        "    print(\"Lowest price:\", price_range[1])\n",
        "    print()  # Adding a blank line for readability and spaces\n",
        "\n",
        "\n"
      ],
      "metadata": {
        "colab": {
          "base_uri": "https://localhost:8080/"
        },
        "id": "MNd6HCeyRjBl",
        "outputId": "883ce8ca-7e0d-4c92-8bda-968b662ad070"
      },
      "execution_count": null,
      "outputs": [
        {
          "output_type": "stream",
          "name": "stdout",
          "text": [
            "Ticker symbol: AAPL\n",
            "Highest price: 142.2\n",
            "Lowest price: 135.9\n",
            "\n",
            "Ticker symbol: GOOG\n",
            "Highest price: 2125.5\n",
            "Lowest price: 2098.0\n",
            "\n",
            "Ticker symbol: MSFT\n",
            "Highest price: 345.2\n",
            "Lowest price: 342.1\n",
            "\n"
          ]
        }
      ]
    },
    {
      "cell_type": "code",
      "source": [
        "# Q4.) A) Write a Python program to remove duplicates from a list of lists.\n",
        "# Sample list: [[10, 20], [40], [30, 56, 25], [10, 20], [33], [40]]\n",
        "# B) Write a Python program which takes a list and returns a list with the elements \"shifted left \n",
        "# by one position\" so [1, 2, 3] yields [2, 3, 1]. \n",
        "# Example: [1, 2, 3] → [2, 3, 1]\n",
        "#  [11, 12, 13] → [12, 13, 11] \n",
        "# C) Iterate a given list and count the occurrence of each element and create a dictionary to show \n",
        "# the count of each element.\n",
        "# Original list [11, 45, 8, 11, 23, 45, 23, 45, 89, 11, 89] \n",
        "# And expected output is:\n",
        "# Printing count of each item {11: 3, 45: 3, 8: 1, 23: 2, 89: 2}\n",
        "\n",
        "# A)\n",
        "#user input list\n",
        "# main_lists = []\n",
        "# while True:\n",
        "#     sublist = input(\"Enter a list of values separated by spaces, or press enter to finish: \")\n",
        "#     if not sublist:\n",
        "#         break\n",
        "#     main_lists.append(sublist.split())\n",
        "main_lists = [[1, 2, 3], [4, 5, 6], [1, 2, 3], [7, 8, 9], [4, 5, 6]]\n",
        "unique_lists = []\n",
        "\n",
        "\n",
        "for lst in main_lists:\n",
        "    if lst not in unique_lists:\n",
        "        unique_lists.append(lst)\n",
        "\n",
        "# Printing the unique list\n",
        "print(unique_lists)\n",
        "\n",
        "# B)\n",
        "\n",
        "def shift_left(lst):\n",
        "    return lst[1:] + [lst[0]]\n",
        "\n",
        "# Example usage\n",
        "original_list = [1, 2, 3]\n",
        "shifted_list = shift_left(original_list)\n",
        "print(shifted_list)\n",
        "\n",
        "# C)\n",
        "\n",
        "def count_elements(lst):\n",
        "    counts = {}\n",
        "    for elem in lst:\n",
        "        if elem in counts:\n",
        "            counts[elem] += 1\n",
        "        else:\n",
        "            counts[elem] = 1\n",
        "    return counts\n",
        "\n",
        "# Example usage\n",
        "list1 = [11, 45, 8, 11, 23, 45, 23, 45, 89, 11, 89]\n",
        "element_counts = count_elements(list1)\n",
        "print(element_counts)\n"
      ],
      "metadata": {
        "colab": {
          "base_uri": "https://localhost:8080/"
        },
        "id": "kp-tLqkeWR8k",
        "outputId": "6110664e-8fff-45cd-aecb-c4ac28bf889c"
      },
      "execution_count": null,
      "outputs": [
        {
          "output_type": "stream",
          "name": "stdout",
          "text": [
            "[[1, 2, 3], [4, 5, 6], [7, 8, 9]]\n",
            "[2, 3, 1]\n",
            "{11: 3, 45: 3, 8: 1, 23: 2, 89: 2}\n"
          ]
        }
      ]
    }
  ]
}